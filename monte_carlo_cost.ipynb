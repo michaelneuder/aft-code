{
 "cells": [
  {
   "cell_type": "code",
   "execution_count": 1,
   "metadata": {},
   "outputs": [],
   "source": [
    "import numpy as np\n",
    "import progressbar"
   ]
  },
  {
   "cell_type": "code",
   "execution_count": 3,
   "metadata": {},
   "outputs": [],
   "source": [
    "# honest network delay over next n blocks.\n",
    "def vectorDelayHonest(ps, es, init_endorsers = 24, delay_priority = 40, delay_endorse = 8):\n",
    "    return (60 * len(ps)\n",
    "           + delay_priority * sum(ps) \n",
    "           + sum([delay_endorse * max(init_endorsers - e, 0) for e in es]))\n",
    "\n",
    "# attacking network delay over next n blocks.\n",
    "def vectorDelayAttacker(ps, es, init_endorsers = 24, delay_priority = 40, delay_endorse = 8):\n",
    "    return (60 * len(ps) \n",
    "           + delay_priority * sum(ps) \n",
    "           + sum([delay_endorse * max(init_endorsers - e, 0) for e in es[1:]]))\n",
    "\n",
    "# efficient sample generation\n",
    "def getAH(alpha):\n",
    "    x = np.random.geometric(1-alpha)\n",
    "    if x == 1:\n",
    "        h = 0\n",
    "        a = np.random.geometric(alpha)\n",
    "    else:\n",
    "        a = 0\n",
    "        h = x - 1\n",
    "    return [a, h]\n",
    "\n",
    "def rewardBlock(p, e):\n",
    "    if p == 0:\n",
    "        return e * 1.25\n",
    "    return e * 0.1875\n",
    "\n",
    "def rewardEndorsement(p):\n",
    "    if p == 0:\n",
    "        return 1.25\n",
    "    return 0.8333333\n",
    "\n",
    "def calcHonestSingle(p, e):\n",
    "    if p == 0:\n",
    "        return rewardBlock(0, 32) + e * rewardEndorsement(0)\n",
    "    return e * rewardEndorsement(0)\n",
    "\n",
    "def calcAttackSingle(p, e):\n",
    "    return rewardBlock(p, e) + e * rewardEndorsement(p)\n",
    "\n",
    "def vectorRewardHonest(ps, es):\n",
    "    totalReward = 0\n",
    "    for i in range(len(ps)):\n",
    "        totalReward += calcHonestSingle(ps[i], es[i])\n",
    "    return totalReward\n",
    "\n",
    "def vectorRewardAttack(ps, es):\n",
    "    totalReward = calcAttackSingle(ps[0], 32)\n",
    "    for i in range(1,len(ps)):\n",
    "        totalReward += calcAttackSingle(ps[i], es[i])\n",
    "    return totalReward\n",
    "\n",
    "def calcCosts(ps, es):\n",
    "    return vectorRewardHonest(ps, es) - vectorRewardAttack(ps, es)"
   ]
  },
  {
   "cell_type": "code",
   "execution_count": null,
   "metadata": {},
   "outputs": [],
   "source": [
    "def getProbSelfish(alpha, length, sample_size = int(1e5), init_endorsers = 24, delay_priority = 40, delay_endorse = 8):\n",
    "    bar = progressbar.ProgressBar()\n",
    "    feasible_count = 0\n",
    "    for _ in bar(range(sample_size)):\n",
    "        aVals = []\n",
    "        hVals = []\n",
    "        for i in range(length):\n",
    "            a, h = getAH(alpha)\n",
    "            aVals.append(a)\n",
    "            hVals.append(h)\n",
    "        eVals = np.random.binomial(32, alpha, size = length)\n",
    "        honest_delay = vectorDelayHonest(hVals, 32 - eVals)\n",
    "        selfish_delay = vectorDelayAttacker(aVals, eVals)\n",
    "        if selfish_delay <= honest_delay:\n",
    "            feasible_count += 1\n",
    "    return feasible_count / sample_size"
   ]
  }
 ],
 "metadata": {
  "kernelspec": {
   "display_name": "Python 3",
   "language": "python",
   "name": "python3"
  },
  "language_info": {
   "codemirror_mode": {
    "name": "ipython",
    "version": 3
   },
   "file_extension": ".py",
   "mimetype": "text/x-python",
   "name": "python",
   "nbconvert_exporter": "python",
   "pygments_lexer": "ipython3",
   "version": "3.7.6"
  }
 },
 "nbformat": 4,
 "nbformat_minor": 2
}
