{
 "cells": [
  {
   "cell_type": "code",
   "execution_count": 1,
   "metadata": {},
   "outputs": [],
   "source": [
    "import matplotlib.pyplot as plt\n",
    "import numpy as np"
   ]
  },
  {
   "cell_type": "code",
   "execution_count": 4,
   "metadata": {},
   "outputs": [
    {
     "data": {
      "text/plain": [
       "((12,), (12, 3))"
      ]
     },
     "execution_count": 4,
     "metadata": {},
     "output_type": "execute_result"
    }
   ],
   "source": [
    "res_alphas = np.arange(0.38, 0.50, 0.01)\n",
    "res_opts= np.asarray([[18, 55, 55], [18, 67, 97], [25, 36, 78], [26, 95, 71], [20, 87, 99], [18, 46, 73],\n",
    "          [19, 32, 67], [17, 31, 80], [16, 27, 64], [16, 20, 42], [17, 35, 74], [16, 54, 94]])\n",
    "res_alphas.shape, res_opts.shape"
   ]
  },
  {
   "cell_type": "code",
   "execution_count": 15,
   "metadata": {},
   "outputs": [
    {
     "data": {
      "text/plain": [
       "array([55, 67, 36, 95, 87, 46, 32, 31, 27, 20, 35, 54])"
      ]
     },
     "execution_count": 15,
     "metadata": {},
     "output_type": "execute_result"
    }
   ],
   "source": [
    "res_opts[:,1]"
   ]
  },
  {
   "cell_type": "code",
   "execution_count": 14,
   "metadata": {},
   "outputs": [
    {
     "data": {
      "image/png": "[encoded data removed]",
      "text/plain": [
       "<Figure size 1080x360 with 3 Axes>"
      ]
     },
     "metadata": {},
     "output_type": "display_data"
    }
   ],
   "source": [
    "f, axarr  = plt.subplots(ncols=3, figsize=(15,5))\n",
    "for i in range(3):\n",
    "    axarr[i].imshow(np.reshape(res_opts[:,i], (1,12)))\n",
    "axarr[0].set_title('init endorsers')\n",
    "axarr[1].set_title('delay priority')\n",
    "axarr[2].set_title('delay endorse')\n",
    "for ax in axarr:\n",
    "    ax.set_xticks([])\n",
    "    ax.set_yticks([])"
   ]
  }
 ],
 "metadata": {
  "kernelspec": {
   "display_name": "Python 3",
   "language": "python",
   "name": "python3"
  },
  "language_info": {
   "codemirror_mode": {
    "name": "ipython",
    "version": 3
   },
   "file_extension": ".py",
   "mimetype": "text/x-python",
   "name": "python",
   "nbconvert_exporter": "python",
   "pygments_lexer": "ipython3",
   "version": "3.7.6"
  }
 },
 "nbformat": 4,
 "nbformat_minor": 2
}
