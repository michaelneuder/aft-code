{
 "cells": [
  {
   "cell_type": "code",
   "execution_count": 1,
   "metadata": {},
   "outputs": [],
   "source": [
    "import numpy as np\n",
    "import progressbar"
   ]
  },
  {
   "cell_type": "code",
   "execution_count": 12,
   "metadata": {},
   "outputs": [],
   "source": [
    "# honest network delay over next n blocks.\n",
    "def vectorDelayHonest(ps, es, init_endorsers = 24, delay_priority = 40, delay_endorse = 8):\n",
    "    return (60 * len(ps)\n",
    "           + delay_priority * sum(ps) \n",
    "           + sum([delay_endorse * max(init_endorsers - e, 0) for e in es]))\n",
    "\n",
    "# attacking network delay over next n blocks.\n",
    "def vectorDelayAttacker(ps, es, init_endorsers = 24, delay_priority = 40, delay_endorse = 8):\n",
    "    return (60 * len(ps) \n",
    "           + delay_priority * sum(ps) \n",
    "           + sum([delay_endorse * max(init_endorsers - e, 0) for e in es[1:]]))\n",
    "\n",
    "# efficient sample generation\n",
    "def getAH(alpha):\n",
    "    x = np.random.geometric(1-alpha)\n",
    "    if x == 1:\n",
    "        h = 0\n",
    "        a = np.random.geometric(alpha)\n",
    "    else:\n",
    "        a = 0\n",
    "        h = x - 1\n",
    "    return [a, h]"
   ]
  },
  {
   "cell_type": "code",
   "execution_count": 13,
   "metadata": {},
   "outputs": [],
   "source": [
    "def getProbReorg(alpha, length, sample_size = int(1e5)):\n",
    "    bar = progressbar.ProgressBar()\n",
    "    feasible_count = 0\n",
    "    for _ in bar(range(sample_size)):\n",
    "        aVals = []\n",
    "        hVals = []\n",
    "        for i in range(length):\n",
    "            a, h = getAH(alpha)\n",
    "            aVals.append(a)\n",
    "            hVals.append(h)\n",
    "        eVals = np.random.binomial(32, alpha, size = length)\n",
    "        honest_delay = vectorDelayHonest(hVals, 32 - eVals)\n",
    "        selfish_delay = vectorDelayAttacker(aVals, eVals)\n",
    "        if selfish_delay <= honest_delay:\n",
    "            feasible_count += 1\n",
    "    return feasible_count / sample_size"
   ]
  },
  {
   "cell_type": "code",
   "execution_count": 14,
   "metadata": {},
   "outputs": [
    {
     "name": "stderr",
     "output_type": "stream",
     "text": [
      "100% (100000 of 100000) |################| Elapsed Time: 0:00:09 Time:  0:00:09\n"
     ]
    },
    {
     "data": {
      "text/plain": [
       "0.05893"
      ]
     },
     "execution_count": 14,
     "metadata": {},
     "output_type": "execute_result"
    }
   ],
   "source": [
    "getProbReorg(alpha = 0.45, length = 20)"
   ]
  }
 ],
 "metadata": {
  "kernelspec": {
   "display_name": "Python 3",
   "language": "python",
   "name": "python3"
  },
  "language_info": {
   "codemirror_mode": {
    "name": "ipython",
    "version": 3
   },
   "file_extension": ".py",
   "mimetype": "text/x-python",
   "name": "python",
   "nbconvert_exporter": "python",
   "pygments_lexer": "ipython3",
   "version": "3.7.6"
  }
 },
 "nbformat": 4,
 "nbformat_minor": 2
}
