{
 "cells": [
  {
   "cell_type": "code",
   "execution_count": 1,
   "metadata": {},
   "outputs": [],
   "source": [
    "import matplotlib.pyplot as plt\n",
    "import numpy as np\n",
    "import progressbar"
   ]
  },
  {
   "cell_type": "code",
   "execution_count": 4,
   "metadata": {},
   "outputs": [],
   "source": [
    "# results in this format from the output of the multi-threaded c++ code.\n",
    "resultsFinal = np.asarray([\n",
    "0, 0, 0, 0, 0, 0,\n",
    "0, 0, 0, 0, 0, 0,\n",
    "0, 0, 0, 0, 0, 0,\n",
    "0, 0, 0, 0, 0, 0,\n",
    "0, 0, 0, 0, 0, 0,\n",
    "0, 0, 0, 0, 0, 0,\n",
    "0, 0, 0, 0, 0, 0,\n",
    "0, 0, 0, 0, 0, 0,\n",
    "3e-08, 0, 0, 0, 0, 0,\n",
    "6e-08, 0, 0, 0, 0, 0,\n",
    "2.5e-07, 0, 0, 0, 0, 0,\n",
    "7.1e-07, 0, 0, 0, 0, 0,\n",
    "1.65e-06, 0, 0, 0, 0, 0,\n",
    "4.9e-06, 0, 0, 0, 0, 0,\n",
    "1.178e-05, 0, 0, 0, 0, 0,\n",
    "2.797e-05, 0, 0, 0, 0, 0,\n",
    "6.254e-05, 0, 0, 0, 0, 0,\n",
    "0.00013422, 2e-08, 0, 0, 0, 0,\n",
    "0.00027849, 7e-08, 0, 0, 0, 0,\n",
    "0.00054056, 1.5e-07, 0, 0, 0, 0,  \n",
    "0.00101865, 8.4e-07, 0, 0, 0, 0,\n",
    "0.00185053, 3.71e-06, 0, 0, 0, 0,\n",
    "0.00323235, 1.331e-05, 0, 0, 0, 0,\n",
    "0.0054424, 3.902e-05, 0, 0, 0, 0,\n",
    "0.00889944, 0.00011233, 1e-08, 0, 0, 0,\n",
    "0.0140104, 0.00029576, 8e-08, 0, 0, 0,\n",
    "0.0214406, 0.00073342, 1.19e-06, 0, 0, 0,\n",
    "0.0318141, 0.00168044, 6.31e-06, 2e-08, 0, 0,\n",
    "0.0459994, 0.00364552, 3.162e-05, 2e-08, 0, 0,\n",
    "0.0646293, 0.00743669, 0.0001314, 4.6e-07, 0, 0,\n",
    "0.0885937, 0.0142396, 0.00049523, 4.14e-06, 2e-08, 0,\n",
    "0.118352, 0.0257663, 0.00162757, 3.233e-05, 3.6e-07, 0, \n",
    "0.154433, 0.0440788, 0.00472106, 0.00020428, 3.66e-06, 1e-08, \n",
    "0.196837, 0.0715445, 0.0122646, 0.00105628, 4.37e-05, 9.2e-07, \n",
    "0.245502, 0.110379, 0.0283845, 0.00443653, 0.00041492, 2.269e-05, \n",
    "0.299761, 0.162142, 0.0591246, 0.0153717, 0.00283166, 0.00037416, \n",
    "0.358843, 0.227416, 0.111237, 0.0440746, 0.0141348, 0.00365242, \n",
    "0.421386, 0.305263, 0.189755, 0.105458, 0.0524408,  0.0232268,\n",
    "0.485932, 0.392829, 0.295232, 0.212378, 0.146406, 0.0962258, \n",
    "0.550785, 0.486158, 0.421551, 0.364836, 0.314247, 0.268755,])\n",
    "resultsFinal = np.reshape(resultsFinal, (40,6))"
   ]
  },
  {
   "cell_type": "code",
   "execution_count": 2,
   "metadata": {},
   "outputs": [],
   "source": [
    "# honest network delay over next n blocks.\n",
    "def vectorDelayHonest(ps, es, init_endorsers, delay_priority, delay_endorse):\n",
    "    return (60 * len(ps)\n",
    "           + delay_priority * sum(ps) \n",
    "           + sum([delay_endorse * max(init_endorsers - e, 0) for e in es]))\n",
    "\n",
    "# attacking network delay over next n blocks.\n",
    "def vectorDelayAttacker(ps, es, init_endorsers, delay_priority, delay_endorse):\n",
    "    return (60 * len(ps) \n",
    "           + delay_priority * sum(ps) \n",
    "           + sum([delay_endorse * max(init_endorsers - e, 0) for e in es[1:]]))\n",
    "\n",
    "# efficient sample generation\n",
    "def getAH(alpha):\n",
    "    x = np.random.geometric(1-alpha)\n",
    "    if x == 1:\n",
    "        h = 0\n",
    "        a = np.random.geometric(alpha)\n",
    "    else:\n",
    "        a = 0\n",
    "        h = x - 1\n",
    "    return [a, h]"
   ]
  },
  {
   "cell_type": "code",
   "execution_count": 3,
   "metadata": {},
   "outputs": [],
   "source": [
    "def getProbReorg(alpha, length, init_endorsers, delay_priority, delay_endorse, sample_size = int(1e3)):\n",
    "    bar = progressbar.ProgressBar()\n",
    "    feasible_count = 0\n",
    "    for _ in range(sample_size):\n",
    "        aVals = []\n",
    "        hVals = []\n",
    "        for i in range(length):\n",
    "            a, h = getAH(alpha)\n",
    "            aVals.append(a)\n",
    "            hVals.append(h)\n",
    "        eVals = np.random.binomial(32, alpha, size = length)\n",
    "        honest_delay = vectorDelayHonest(hVals, 32 - eVals, init_endorsers, delay_priority, delay_endorse)\n",
    "        selfish_delay = vectorDelayAttacker(aVals, eVals, init_endorsers, delay_priority, delay_endorse)\n",
    "        if selfish_delay <= honest_delay:\n",
    "            feasible_count += 1\n",
    "    return feasible_count / sample_size"
   ]
  },
  {
   "cell_type": "code",
   "execution_count": 6,
   "metadata": {},
   "outputs": [
    {
     "data": {
      "text/plain": [
       "array([1.00000e-08, 8.00000e-08, 1.19000e-06, 6.31000e-06, 3.16200e-05,\n",
       "       1.31400e-04, 4.95230e-04, 1.62757e-03, 4.72106e-03, 1.22646e-02,\n",
       "       2.83845e-02, 5.91246e-02, 1.11237e-01, 1.89755e-01, 2.95232e-01,\n",
       "       4.21551e-01])"
      ]
     },
     "execution_count": 6,
     "metadata": {},
     "output_type": "execute_result"
    }
   ],
   "source": [
    "length_20_probs = resultsFinal[:,2]\n",
    "length_20_probs_nonzero = length_20_probs[24:]\n",
    "length_20_probs_nonzero"
   ]
  },
  {
   "cell_type": "code",
   "execution_count": 9,
   "metadata": {},
   "outputs": [
    {
     "name": "stdout",
     "output_type": "stream",
     "text": [
      "0.34 1e-08\n",
      "0.35000000000000003 8e-08\n",
      "0.36000000000000004 1.19e-06\n",
      "0.37000000000000005 6.31e-06\n",
      "0.38000000000000006 3.162e-05\n",
      "0.39000000000000007 0.0001314\n",
      "0.4000000000000001 0.00049523\n",
      "0.4100000000000001 0.00162757\n",
      "0.4200000000000001 0.00472106\n",
      "0.4300000000000001 0.0122646\n",
      "0.4400000000000001 0.0283845\n",
      "0.4500000000000001 0.0591246\n",
      "0.46000000000000013 0.111237\n",
      "0.47000000000000014 0.189755\n",
      "0.48000000000000015 0.295232\n",
      "0.49000000000000016 0.421551\n"
     ]
    }
   ],
   "source": [
    "alphas_total= np.arange(0.34, 0.50, 0.01)\n",
    "for i in range(16):\n",
    "    print(alphas_total[i], length_20_probs_nonzero[i])\n",
    "    "
   ]
  },
  {
   "cell_type": "code",
   "execution_count": 12,
   "metadata": {},
   "outputs": [
    {
     "name": "stdout",
     "output_type": "stream",
     "text": [
      "0.41 0.00162757\n",
      "0.45 0.0591246\n",
      "0.49 0.421551\n"
     ]
    },
    {
     "data": {
      "text/plain": [
       "array([614.41289776,  16.91343366,   2.37219221])"
      ]
     },
     "execution_count": 12,
     "metadata": {},
     "output_type": "execute_result"
    }
   ],
   "source": [
    "alphas = [0.41, 0.45, 0.49]\n",
    "tezos_probs = [length_20_probs_nonzero[7], length_20_probs_nonzero[11], length_20_probs_nonzero[15]]\n",
    "for i in range(3):\n",
    "    print(alphas[i], tezos_probs[i])\n",
    "weights = 1 / np.asarray(tezos_probs)\n",
    "weights"
   ]
  },
  {
   "cell_type": "code",
   "execution_count": 17,
   "metadata": {},
   "outputs": [],
   "source": [
    "init_endorsers_range = list(range(33))\n",
    "delay_priority_range = list(range(20, 61))\n",
    "delay_endorse_range = list(range(4, 13))"
   ]
  },
  {
   "cell_type": "code",
   "execution_count": 23,
   "metadata": {},
   "outputs": [],
   "source": [
    "results_grid = np.zeros(shape=(\n",
    "    len(init_endorsers_range),\n",
    "    len(delay_priority_range),\n",
    "    len(delay_endorse_range)))"
   ]
  },
  {
   "cell_type": "code",
   "execution_count": 28,
   "metadata": {},
   "outputs": [
    {
     "data": {
      "text/plain": [
       "([0.41, 0.45, 0.49], array([614.41289776,  16.91343366,   2.37219221]))"
      ]
     },
     "execution_count": 28,
     "metadata": {},
     "output_type": "execute_result"
    }
   ],
   "source": [
    "alphas, weights"
   ]
  },
  {
   "cell_type": "code",
   "execution_count": null,
   "metadata": {},
   "outputs": [
    {
     "name": "stderr",
     "output_type": "stream",
     "text": [
      "  9% (4 of 41) |##                       | Elapsed Time: 0:00:07 ETA:   0:01:13"
     ]
    }
   ],
   "source": [
    "for i in range(len(init_endorsers_range)):\n",
    "    bar = progressbar.ProgressBar()\n",
    "    for j in bar(range(len(delay_priority_range))):\n",
    "        for k in range(len(delay_endorse_range)):\n",
    "            prob1 = getProbReorg(\n",
    "                alphas[0], \n",
    "                length=20, \n",
    "                init_endorsers=init_endorsers_range[i],\n",
    "                delay_priority=delay_priority_range[j],\n",
    "                delay_endorse=delay_endorse_range[k],\n",
    "                sample_size=int(1e3))\n",
    "            prob2 = getProbReorg(\n",
    "                alphas[1], \n",
    "                length=20, \n",
    "                init_endorsers=init_endorsers_range[i],\n",
    "                delay_priority=delay_priority_range[j],\n",
    "                delay_endorse=delay_endorse_range[k],\n",
    "                sample_size=int(1e3))\n",
    "            prob3 = getProbReorg(\n",
    "                alphas[2], \n",
    "                length=20, \n",
    "                init_endorsers=init_endorsers_range[i],\n",
    "                delay_priority=delay_priority_range[j],\n",
    "                delay_endorse=delay_endorse_range[k],\n",
    "                sample_size=int(1e3))\n",
    "            val = weights[0] * prob1 + weights[1] * prob2 + weights[2] * prob3\n",
    "            results_grid[i, j, k] = val"
   ]
  }
 ],
 "metadata": {
  "kernelspec": {
   "display_name": "Python 3",
   "language": "python",
   "name": "python3"
  },
  "language_info": {
   "codemirror_mode": {
    "name": "ipython",
    "version": 3
   },
   "file_extension": ".py",
   "mimetype": "text/x-python",
   "name": "python",
   "nbconvert_exporter": "python",
   "pygments_lexer": "ipython3",
   "version": "3.7.6"
  }
 },
 "nbformat": 4,
 "nbformat_minor": 2
}
