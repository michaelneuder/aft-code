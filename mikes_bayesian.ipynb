{
 "cells": [
  {
   "cell_type": "code",
   "execution_count": 3,
   "metadata": {},
   "outputs": [],
   "source": [
    "from GPyOpt.methods import BayesianOptimization\n",
    "import matplotlib.pyplot as plt\n",
    "import numpy as np\n",
    "import progressbar"
   ]
  },
  {
   "cell_type": "code",
   "execution_count": 4,
   "metadata": {},
   "outputs": [],
   "source": [
    "# results in this format from the output of the multi-threaded c++ code.\n",
    "resultsFinal = np.asarray([\n",
    "0, 0, 0, 0, 0, 0,\n",
    "0, 0, 0, 0, 0, 0,\n",
    "0, 0, 0, 0, 0, 0,\n",
    "0, 0, 0, 0, 0, 0,\n",
    "0, 0, 0, 0, 0, 0,\n",
    "0, 0, 0, 0, 0, 0,\n",
    "0, 0, 0, 0, 0, 0,\n",
    "0, 0, 0, 0, 0, 0,\n",
    "3e-08, 0, 0, 0, 0, 0,\n",
    "6e-08, 0, 0, 0, 0, 0,\n",
    "2.5e-07, 0, 0, 0, 0, 0,\n",
    "7.1e-07, 0, 0, 0, 0, 0,\n",
    "1.65e-06, 0, 0, 0, 0, 0,\n",
    "4.9e-06, 0, 0, 0, 0, 0,\n",
    "1.178e-05, 0, 0, 0, 0, 0,\n",
    "2.797e-05, 0, 0, 0, 0, 0,\n",
    "6.254e-05, 0, 0, 0, 0, 0,\n",
    "0.00013422, 2e-08, 0, 0, 0, 0,\n",
    "0.00027849, 7e-08, 0, 0, 0, 0,\n",
    "0.00054056, 1.5e-07, 0, 0, 0, 0,  \n",
    "0.00101865, 8.4e-07, 0, 0, 0, 0,\n",
    "0.00185053, 3.71e-06, 0, 0, 0, 0,\n",
    "0.00323235, 1.331e-05, 0, 0, 0, 0,\n",
    "0.0054424, 3.902e-05, 0, 0, 0, 0,\n",
    "0.00889944, 0.00011233, 1e-08, 0, 0, 0,\n",
    "0.0140104, 0.00029576, 8e-08, 0, 0, 0,\n",
    "0.0214406, 0.00073342, 1.19e-06, 0, 0, 0,\n",
    "0.0318141, 0.00168044, 6.31e-06, 2e-08, 0, 0,\n",
    "0.0459994, 0.00364552, 3.162e-05, 2e-08, 0, 0,\n",
    "0.0646293, 0.00743669, 0.0001314, 4.6e-07, 0, 0,\n",
    "0.0885937, 0.0142396, 0.00049523, 4.14e-06, 2e-08, 0,\n",
    "0.118352, 0.0257663, 0.00162757, 3.233e-05, 3.6e-07, 0, \n",
    "0.154433, 0.0440788, 0.00472106, 0.00020428, 3.66e-06, 1e-08, \n",
    "0.196837, 0.0715445, 0.0122646, 0.00105628, 4.37e-05, 9.2e-07, \n",
    "0.245502, 0.110379, 0.0283845, 0.00443653, 0.00041492, 2.269e-05, \n",
    "0.299761, 0.162142, 0.0591246, 0.0153717, 0.00283166, 0.00037416, \n",
    "0.358843, 0.227416, 0.111237, 0.0440746, 0.0141348, 0.00365242, \n",
    "0.421386, 0.305263, 0.189755, 0.105458, 0.0524408,  0.0232268,\n",
    "0.485932, 0.392829, 0.295232, 0.212378, 0.146406, 0.0962258, \n",
    "0.550785, 0.486158, 0.421551, 0.364836, 0.314247, 0.268755,])\n",
    "resultsFinal = np.reshape(resultsFinal, (40,6))"
   ]
  },
  {
   "cell_type": "code",
   "execution_count": 5,
   "metadata": {},
   "outputs": [],
   "source": [
    "# honest network delay over next n blocks.\n",
    "def vectorDelayHonest(ps, es, init_endorsers, delay_priority, delay_endorse):\n",
    "    return (60 * len(ps)\n",
    "           + delay_priority * sum(ps) \n",
    "           + sum([delay_endorse * max(init_endorsers - e, 0) for e in es]))\n",
    "\n",
    "# attacking network delay over next n blocks.\n",
    "def vectorDelayAttacker(ps, es, init_endorsers, delay_priority, delay_endorse):\n",
    "    return (60 * len(ps) \n",
    "           + delay_priority * sum(ps) \n",
    "           + sum([delay_endorse * max(init_endorsers - e, 0) for e in es[1:]]))\n",
    "\n",
    "# efficient sample generation\n",
    "def getAH(alpha):\n",
    "    x = np.random.geometric(1-alpha)\n",
    "    if x == 1:\n",
    "        h = 0\n",
    "        a = np.random.geometric(alpha)\n",
    "    else:\n",
    "        a = 0\n",
    "        h = x - 1\n",
    "    return [a, h]"
   ]
  },
  {
   "cell_type": "code",
   "execution_count": 16,
   "metadata": {},
   "outputs": [],
   "source": [
    "def getProbReorg(alpha, length, init_endorsers, delay_priority, delay_endorse, sample_size = int(1e5)):\n",
    "    bar = progressbar.ProgressBar()\n",
    "    feasible_count = 0\n",
    "    for _ in range(sample_size):\n",
    "        aVals = []\n",
    "        hVals = []\n",
    "        for i in range(length):\n",
    "            a, h = getAH(alpha)\n",
    "            aVals.append(a)\n",
    "            hVals.append(h)\n",
    "        eVals = np.random.binomial(32, alpha, size = length)\n",
    "        honest_delay = vectorDelayHonest(hVals, 32 - eVals, init_endorsers, delay_priority, delay_endorse)\n",
    "        selfish_delay = vectorDelayAttacker(aVals, eVals, init_endorsers, delay_priority, delay_endorse)\n",
    "        if selfish_delay <= honest_delay:\n",
    "            feasible_count += 1\n",
    "    return feasible_count / sample_size"
   ]
  },
  {
   "cell_type": "code",
   "execution_count": 9,
   "metadata": {},
   "outputs": [
    {
     "data": {
      "text/plain": [
       "array([0.00000e+00, 0.00000e+00, 0.00000e+00, 0.00000e+00, 0.00000e+00,\n",
       "       0.00000e+00, 0.00000e+00, 0.00000e+00, 0.00000e+00, 0.00000e+00,\n",
       "       0.00000e+00, 0.00000e+00, 0.00000e+00, 0.00000e+00, 0.00000e+00,\n",
       "       0.00000e+00, 0.00000e+00, 0.00000e+00, 0.00000e+00, 0.00000e+00,\n",
       "       0.00000e+00, 0.00000e+00, 0.00000e+00, 0.00000e+00, 1.00000e-08,\n",
       "       8.00000e-08, 1.19000e-06, 6.31000e-06, 3.16200e-05, 1.31400e-04,\n",
       "       4.95230e-04, 1.62757e-03, 4.72106e-03, 1.22646e-02, 2.83845e-02,\n",
       "       5.91246e-02, 1.11237e-01, 1.89755e-01, 2.95232e-01, 4.21551e-01])"
      ]
     },
     "execution_count": 9,
     "metadata": {},
     "output_type": "execute_result"
    }
   ],
   "source": [
    "length_20_probs = resultsFinal[:,2]\n",
    "length_20_probs"
   ]
  },
  {
   "cell_type": "code",
   "execution_count": 11,
   "metadata": {},
   "outputs": [
    {
     "data": {
      "text/plain": [
       "array([1.00000e-08, 8.00000e-08, 1.19000e-06, 6.31000e-06, 3.16200e-05,\n",
       "       1.31400e-04, 4.95230e-04, 1.62757e-03, 4.72106e-03, 1.22646e-02,\n",
       "       2.83845e-02, 5.91246e-02, 1.11237e-01, 1.89755e-01, 2.95232e-01,\n",
       "       4.21551e-01])"
      ]
     },
     "execution_count": 11,
     "metadata": {},
     "output_type": "execute_result"
    }
   ],
   "source": [
    "length_20_probs_nonzero = length_20_probs[24:]\n",
    "length_20_probs_nonzero"
   ]
  },
  {
   "cell_type": "code",
   "execution_count": 13,
   "metadata": {},
   "outputs": [
    {
     "data": {
      "text/plain": [
       "array([3.16200e-05, 1.31400e-04, 4.95230e-04, 1.62757e-03, 4.72106e-03,\n",
       "       1.22646e-02, 2.83845e-02, 5.91246e-02, 1.11237e-01, 1.89755e-01,\n",
       "       2.95232e-01, 4.21551e-01])"
      ]
     },
     "execution_count": 13,
     "metadata": {},
     "output_type": "execute_result"
    }
   ],
   "source": [
    "length_20_probs_nonzero_geq105 = length_20_probs[28:]\n",
    "length_20_probs_nonzero_geq105"
   ]
  },
  {
   "cell_type": "code",
   "execution_count": 15,
   "metadata": {},
   "outputs": [
    {
     "data": {
      "text/plain": [
       "array([0.38, 0.39, 0.4 , 0.41, 0.42, 0.43, 0.44, 0.45, 0.46, 0.47, 0.48,\n",
       "       0.49])"
      ]
     },
     "execution_count": 15,
     "metadata": {},
     "output_type": "execute_result"
    }
   ],
   "source": [
    "alphas_geq105 = np.arange(0.38, 0.50, 0.01)\n",
    "alphas_geq105"
   ]
  },
  {
   "cell_type": "code",
   "execution_count": 29,
   "metadata": {},
   "outputs": [],
   "source": [
    "def objective(inputs):\n",
    "    print(inputs)\n",
    "    val = 0\n",
    "    bar = progressbar.ProgressBar()\n",
    "    for i in bar(range(12)):\n",
    "        prob = getProbReorg(alpha = alphas_geq105[i], \n",
    "                            length=20, \n",
    "                            init_endorsers = inputs[0][0], \n",
    "                            delay_priority = inputs[0][1], \n",
    "                            delay_endorse = inputs[0][2])\n",
    "        val += length_20_probs_nonzero_geq105 * prob\n",
    "    return val"
   ]
  },
  {
   "cell_type": "code",
   "execution_count": 30,
   "metadata": {},
   "outputs": [],
   "source": [
    "domain = [{'name': 'init_endorsers', 'type': 'discrete', 'domain': tuple(range(33))}, \n",
    "        {'name': 'delay_priority', 'type': 'discrete', 'domain': tuple(range(100))}, \n",
    "        {'name': 'delay_endorse', 'type': 'discrete', 'domain': tuple(range(100))}]"
   ]
  },
  {
   "cell_type": "code",
   "execution_count": 31,
   "metadata": {},
   "outputs": [
    {
     "name": "stderr",
     "output_type": "stream",
     "text": [
      "\r",
      "N/A% (0 of 12) |                         | Elapsed Time: 0:00:00 ETA:  --:--:--"
     ]
    },
    {
     "name": "stdout",
     "output_type": "stream",
     "text": [
      "[[ 8. 39. 86.]]\n"
     ]
    },
    {
     "name": "stderr",
     "output_type": "stream",
     "text": [
      " 91% (11 of 12) |######################  | Elapsed Time: 0:01:46 ETA:   0:00:09"
     ]
    },
    {
     "ename": "KeyboardInterrupt",
     "evalue": "",
     "output_type": "error",
     "traceback": [
      "\u001b[0;31m---------------------------------------------------------------------------\u001b[0m",
      "\u001b[0;31mKeyboardInterrupt\u001b[0m                         Traceback (most recent call last)",
      "\u001b[0;32m<ipython-input-31-dab1f3c49a8d>\u001b[0m in \u001b[0;36m<module>\u001b[0;34m\u001b[0m\n\u001b[0;32m----> 1\u001b[0;31m \u001b[0mopt\u001b[0m \u001b[0;34m=\u001b[0m \u001b[0mBayesianOptimization\u001b[0m\u001b[0;34m(\u001b[0m\u001b[0mf\u001b[0m \u001b[0;34m=\u001b[0m \u001b[0mobjective\u001b[0m\u001b[0;34m,\u001b[0m \u001b[0mdomain\u001b[0m \u001b[0;34m=\u001b[0m \u001b[0mdomain\u001b[0m\u001b[0;34m)\u001b[0m\u001b[0;34m\u001b[0m\u001b[0;34m\u001b[0m\u001b[0m\n\u001b[0m\u001b[1;32m      2\u001b[0m \u001b[0mopt\u001b[0m\u001b[0;34m.\u001b[0m\u001b[0mrun_optimization\u001b[0m\u001b[0;34m(\u001b[0m\u001b[0mmax_iter\u001b[0m \u001b[0;34m=\u001b[0m \u001b[0;36m100\u001b[0m\u001b[0;34m)\u001b[0m\u001b[0;34m\u001b[0m\u001b[0;34m\u001b[0m\u001b[0m\n\u001b[1;32m      3\u001b[0m \u001b[0mopt\u001b[0m\u001b[0;34m.\u001b[0m\u001b[0mplot_acquisition\u001b[0m\u001b[0;34m(\u001b[0m\u001b[0;34m)\u001b[0m\u001b[0;34m\u001b[0m\u001b[0;34m\u001b[0m\u001b[0m\n",
      "\u001b[0;32m/usr/local/lib/python3.7/site-packages/GPyOpt/methods/bayesian_optimization.py\u001b[0m in \u001b[0;36m__init__\u001b[0;34m(self, f, domain, constraints, cost_withGradients, model_type, X, Y, initial_design_numdata, initial_design_type, acquisition_type, normalize_Y, exact_feval, acquisition_optimizer_type, model_update_interval, evaluator_type, batch_size, num_cores, verbosity, verbosity_model, maximize, de_duplication, **kwargs)\u001b[0m\n\u001b[1;32m    117\u001b[0m         \u001b[0mself\u001b[0m\u001b[0;34m.\u001b[0m\u001b[0minitial_design_type\u001b[0m  \u001b[0;34m=\u001b[0m \u001b[0minitial_design_type\u001b[0m\u001b[0;34m\u001b[0m\u001b[0;34m\u001b[0m\u001b[0m\n\u001b[1;32m    118\u001b[0m         \u001b[0mself\u001b[0m\u001b[0;34m.\u001b[0m\u001b[0minitial_design_numdata\u001b[0m \u001b[0;34m=\u001b[0m \u001b[0minitial_design_numdata\u001b[0m\u001b[0;34m\u001b[0m\u001b[0;34m\u001b[0m\u001b[0m\n\u001b[0;32m--> 119\u001b[0;31m         \u001b[0mself\u001b[0m\u001b[0;34m.\u001b[0m\u001b[0m_init_design_chooser\u001b[0m\u001b[0;34m(\u001b[0m\u001b[0;34m)\u001b[0m\u001b[0;34m\u001b[0m\u001b[0;34m\u001b[0m\u001b[0m\n\u001b[0m\u001b[1;32m    120\u001b[0m \u001b[0;34m\u001b[0m\u001b[0m\n\u001b[1;32m    121\u001b[0m         \u001b[0;31m# --- CHOOSE the model type. If an instance of a GPyOpt model is passed (possibly user defined), it is used.\u001b[0m\u001b[0;34m\u001b[0m\u001b[0;34m\u001b[0m\u001b[0;34m\u001b[0m\u001b[0m\n",
      "\u001b[0;32m/usr/local/lib/python3.7/site-packages/GPyOpt/methods/bayesian_optimization.py\u001b[0m in \u001b[0;36m_init_design_chooser\u001b[0;34m(self)\u001b[0m\n\u001b[1;32m    193\u001b[0m         \u001b[0;32mif\u001b[0m \u001b[0mself\u001b[0m\u001b[0;34m.\u001b[0m\u001b[0mX\u001b[0m \u001b[0;32mis\u001b[0m \u001b[0;32mNone\u001b[0m\u001b[0;34m:\u001b[0m\u001b[0;34m\u001b[0m\u001b[0;34m\u001b[0m\u001b[0m\n\u001b[1;32m    194\u001b[0m             \u001b[0mself\u001b[0m\u001b[0;34m.\u001b[0m\u001b[0mX\u001b[0m \u001b[0;34m=\u001b[0m \u001b[0minitial_design\u001b[0m\u001b[0;34m(\u001b[0m\u001b[0mself\u001b[0m\u001b[0;34m.\u001b[0m\u001b[0minitial_design_type\u001b[0m\u001b[0;34m,\u001b[0m \u001b[0mself\u001b[0m\u001b[0;34m.\u001b[0m\u001b[0mspace\u001b[0m\u001b[0;34m,\u001b[0m \u001b[0mself\u001b[0m\u001b[0;34m.\u001b[0m\u001b[0minitial_design_numdata\u001b[0m\u001b[0;34m)\u001b[0m\u001b[0;34m\u001b[0m\u001b[0;34m\u001b[0m\u001b[0m\n\u001b[0;32m--> 195\u001b[0;31m             \u001b[0mself\u001b[0m\u001b[0;34m.\u001b[0m\u001b[0mY\u001b[0m\u001b[0;34m,\u001b[0m \u001b[0m_\u001b[0m \u001b[0;34m=\u001b[0m \u001b[0mself\u001b[0m\u001b[0;34m.\u001b[0m\u001b[0mobjective\u001b[0m\u001b[0;34m.\u001b[0m\u001b[0mevaluate\u001b[0m\u001b[0;34m(\u001b[0m\u001b[0mself\u001b[0m\u001b[0;34m.\u001b[0m\u001b[0mX\u001b[0m\u001b[0;34m)\u001b[0m\u001b[0;34m\u001b[0m\u001b[0;34m\u001b[0m\u001b[0m\n\u001b[0m\u001b[1;32m    196\u001b[0m         \u001b[0;31m# Case 2\u001b[0m\u001b[0;34m\u001b[0m\u001b[0;34m\u001b[0m\u001b[0;34m\u001b[0m\u001b[0m\n\u001b[1;32m    197\u001b[0m         \u001b[0;32melif\u001b[0m \u001b[0mself\u001b[0m\u001b[0;34m.\u001b[0m\u001b[0mX\u001b[0m \u001b[0;32mis\u001b[0m \u001b[0;32mnot\u001b[0m \u001b[0;32mNone\u001b[0m \u001b[0;32mand\u001b[0m \u001b[0mself\u001b[0m\u001b[0;34m.\u001b[0m\u001b[0mY\u001b[0m \u001b[0;32mis\u001b[0m \u001b[0;32mNone\u001b[0m\u001b[0;34m:\u001b[0m\u001b[0;34m\u001b[0m\u001b[0;34m\u001b[0m\u001b[0m\n",
      "\u001b[0;32m/usr/local/lib/python3.7/site-packages/GPyOpt/core/task/objective.py\u001b[0m in \u001b[0;36mevaluate\u001b[0;34m(self, x)\u001b[0m\n\u001b[1;32m     48\u001b[0m \u001b[0;34m\u001b[0m\u001b[0m\n\u001b[1;32m     49\u001b[0m         \u001b[0;32mif\u001b[0m \u001b[0mself\u001b[0m\u001b[0;34m.\u001b[0m\u001b[0mn_procs\u001b[0m \u001b[0;34m==\u001b[0m \u001b[0;36m1\u001b[0m\u001b[0;34m:\u001b[0m\u001b[0;34m\u001b[0m\u001b[0;34m\u001b[0m\u001b[0m\n\u001b[0;32m---> 50\u001b[0;31m             \u001b[0mf_evals\u001b[0m\u001b[0;34m,\u001b[0m \u001b[0mcost_evals\u001b[0m \u001b[0;34m=\u001b[0m \u001b[0mself\u001b[0m\u001b[0;34m.\u001b[0m\u001b[0m_eval_func\u001b[0m\u001b[0;34m(\u001b[0m\u001b[0mx\u001b[0m\u001b[0;34m)\u001b[0m\u001b[0;34m\u001b[0m\u001b[0;34m\u001b[0m\u001b[0m\n\u001b[0m\u001b[1;32m     51\u001b[0m         \u001b[0;32melse\u001b[0m\u001b[0;34m:\u001b[0m\u001b[0;34m\u001b[0m\u001b[0;34m\u001b[0m\u001b[0m\n\u001b[1;32m     52\u001b[0m             \u001b[0;32mtry\u001b[0m\u001b[0;34m:\u001b[0m\u001b[0;34m\u001b[0m\u001b[0;34m\u001b[0m\u001b[0m\n",
      "\u001b[0;32m/usr/local/lib/python3.7/site-packages/GPyOpt/core/task/objective.py\u001b[0m in \u001b[0;36m_eval_func\u001b[0;34m(self, x)\u001b[0m\n\u001b[1;32m     72\u001b[0m         \u001b[0;32mfor\u001b[0m \u001b[0mi\u001b[0m \u001b[0;32min\u001b[0m \u001b[0mrange\u001b[0m\u001b[0;34m(\u001b[0m\u001b[0mx\u001b[0m\u001b[0;34m.\u001b[0m\u001b[0mshape\u001b[0m\u001b[0;34m[\u001b[0m\u001b[0;36m0\u001b[0m\u001b[0;34m]\u001b[0m\u001b[0;34m)\u001b[0m\u001b[0;34m:\u001b[0m\u001b[0;34m\u001b[0m\u001b[0;34m\u001b[0m\u001b[0m\n\u001b[1;32m     73\u001b[0m             \u001b[0mst_time\u001b[0m    \u001b[0;34m=\u001b[0m \u001b[0mtime\u001b[0m\u001b[0;34m.\u001b[0m\u001b[0mtime\u001b[0m\u001b[0;34m(\u001b[0m\u001b[0;34m)\u001b[0m\u001b[0;34m\u001b[0m\u001b[0;34m\u001b[0m\u001b[0m\n\u001b[0;32m---> 74\u001b[0;31m             \u001b[0mrlt\u001b[0m \u001b[0;34m=\u001b[0m \u001b[0mself\u001b[0m\u001b[0;34m.\u001b[0m\u001b[0mfunc\u001b[0m\u001b[0;34m(\u001b[0m\u001b[0mnp\u001b[0m\u001b[0;34m.\u001b[0m\u001b[0matleast_2d\u001b[0m\u001b[0;34m(\u001b[0m\u001b[0mx\u001b[0m\u001b[0;34m[\u001b[0m\u001b[0mi\u001b[0m\u001b[0;34m]\u001b[0m\u001b[0;34m)\u001b[0m\u001b[0;34m)\u001b[0m\u001b[0;34m\u001b[0m\u001b[0;34m\u001b[0m\u001b[0m\n\u001b[0m\u001b[1;32m     75\u001b[0m             \u001b[0mf_evals\u001b[0m     \u001b[0;34m=\u001b[0m \u001b[0mnp\u001b[0m\u001b[0;34m.\u001b[0m\u001b[0mvstack\u001b[0m\u001b[0;34m(\u001b[0m\u001b[0;34m[\u001b[0m\u001b[0mf_evals\u001b[0m\u001b[0;34m,\u001b[0m\u001b[0mrlt\u001b[0m\u001b[0;34m]\u001b[0m\u001b[0;34m)\u001b[0m\u001b[0;34m\u001b[0m\u001b[0;34m\u001b[0m\u001b[0m\n\u001b[1;32m     76\u001b[0m             \u001b[0mcost_evals\u001b[0m \u001b[0;34m+=\u001b[0m \u001b[0;34m[\u001b[0m\u001b[0mtime\u001b[0m\u001b[0;34m.\u001b[0m\u001b[0mtime\u001b[0m\u001b[0;34m(\u001b[0m\u001b[0;34m)\u001b[0m\u001b[0;34m-\u001b[0m\u001b[0mst_time\u001b[0m\u001b[0;34m]\u001b[0m\u001b[0;34m\u001b[0m\u001b[0;34m\u001b[0m\u001b[0m\n",
      "\u001b[0;32m<ipython-input-29-fc192e589aff>\u001b[0m in \u001b[0;36mobjective\u001b[0;34m(inputs)\u001b[0m\n\u001b[1;32m      8\u001b[0m                             \u001b[0minit_endorsers\u001b[0m \u001b[0;34m=\u001b[0m \u001b[0minputs\u001b[0m\u001b[0;34m[\u001b[0m\u001b[0;36m0\u001b[0m\u001b[0;34m]\u001b[0m\u001b[0;34m[\u001b[0m\u001b[0;36m0\u001b[0m\u001b[0;34m]\u001b[0m\u001b[0;34m,\u001b[0m\u001b[0;34m\u001b[0m\u001b[0;34m\u001b[0m\u001b[0m\n\u001b[1;32m      9\u001b[0m                             \u001b[0mdelay_priority\u001b[0m \u001b[0;34m=\u001b[0m \u001b[0minputs\u001b[0m\u001b[0;34m[\u001b[0m\u001b[0;36m0\u001b[0m\u001b[0;34m]\u001b[0m\u001b[0;34m[\u001b[0m\u001b[0;36m1\u001b[0m\u001b[0;34m]\u001b[0m\u001b[0;34m,\u001b[0m\u001b[0;34m\u001b[0m\u001b[0;34m\u001b[0m\u001b[0m\n\u001b[0;32m---> 10\u001b[0;31m                             delay_endorse = inputs[0][2])\n\u001b[0m\u001b[1;32m     11\u001b[0m         \u001b[0mval\u001b[0m \u001b[0;34m+=\u001b[0m \u001b[0mlength_20_probs_nonzero_geq105\u001b[0m \u001b[0;34m*\u001b[0m \u001b[0mprob\u001b[0m\u001b[0;34m\u001b[0m\u001b[0;34m\u001b[0m\u001b[0m\n\u001b[1;32m     12\u001b[0m     \u001b[0;32mreturn\u001b[0m \u001b[0mval\u001b[0m\u001b[0;34m\u001b[0m\u001b[0;34m\u001b[0m\u001b[0m\n",
      "\u001b[0;32m<ipython-input-16-02e0a991a763>\u001b[0m in \u001b[0;36mgetProbReorg\u001b[0;34m(alpha, length, init_endorsers, delay_priority, delay_endorse, sample_size)\u001b[0m\n\u001b[1;32m     10\u001b[0m             \u001b[0mhVals\u001b[0m\u001b[0;34m.\u001b[0m\u001b[0mappend\u001b[0m\u001b[0;34m(\u001b[0m\u001b[0mh\u001b[0m\u001b[0;34m)\u001b[0m\u001b[0;34m\u001b[0m\u001b[0;34m\u001b[0m\u001b[0m\n\u001b[1;32m     11\u001b[0m         \u001b[0meVals\u001b[0m \u001b[0;34m=\u001b[0m \u001b[0mnp\u001b[0m\u001b[0;34m.\u001b[0m\u001b[0mrandom\u001b[0m\u001b[0;34m.\u001b[0m\u001b[0mbinomial\u001b[0m\u001b[0;34m(\u001b[0m\u001b[0;36m32\u001b[0m\u001b[0;34m,\u001b[0m \u001b[0malpha\u001b[0m\u001b[0;34m,\u001b[0m \u001b[0msize\u001b[0m \u001b[0;34m=\u001b[0m \u001b[0mlength\u001b[0m\u001b[0;34m)\u001b[0m\u001b[0;34m\u001b[0m\u001b[0;34m\u001b[0m\u001b[0m\n\u001b[0;32m---> 12\u001b[0;31m         \u001b[0mhonest_delay\u001b[0m \u001b[0;34m=\u001b[0m \u001b[0mvectorDelayHonest\u001b[0m\u001b[0;34m(\u001b[0m\u001b[0mhVals\u001b[0m\u001b[0;34m,\u001b[0m \u001b[0;36m32\u001b[0m \u001b[0;34m-\u001b[0m \u001b[0meVals\u001b[0m\u001b[0;34m,\u001b[0m \u001b[0minit_endorsers\u001b[0m\u001b[0;34m,\u001b[0m \u001b[0mdelay_priority\u001b[0m\u001b[0;34m,\u001b[0m \u001b[0mdelay_endorse\u001b[0m\u001b[0;34m)\u001b[0m\u001b[0;34m\u001b[0m\u001b[0;34m\u001b[0m\u001b[0m\n\u001b[0m\u001b[1;32m     13\u001b[0m         \u001b[0mselfish_delay\u001b[0m \u001b[0;34m=\u001b[0m \u001b[0mvectorDelayAttacker\u001b[0m\u001b[0;34m(\u001b[0m\u001b[0maVals\u001b[0m\u001b[0;34m,\u001b[0m \u001b[0meVals\u001b[0m\u001b[0;34m,\u001b[0m \u001b[0minit_endorsers\u001b[0m\u001b[0;34m,\u001b[0m \u001b[0mdelay_priority\u001b[0m\u001b[0;34m,\u001b[0m \u001b[0mdelay_endorse\u001b[0m\u001b[0;34m)\u001b[0m\u001b[0;34m\u001b[0m\u001b[0;34m\u001b[0m\u001b[0m\n\u001b[1;32m     14\u001b[0m         \u001b[0;32mif\u001b[0m \u001b[0mselfish_delay\u001b[0m \u001b[0;34m<=\u001b[0m \u001b[0mhonest_delay\u001b[0m\u001b[0;34m:\u001b[0m\u001b[0;34m\u001b[0m\u001b[0;34m\u001b[0m\u001b[0m\n",
      "\u001b[0;32m<ipython-input-5-75ac643e27dd>\u001b[0m in \u001b[0;36mvectorDelayHonest\u001b[0;34m(ps, es, init_endorsers, delay_priority, delay_endorse)\u001b[0m\n\u001b[1;32m      3\u001b[0m     return (60 * len(ps)\n\u001b[1;32m      4\u001b[0m            \u001b[0;34m+\u001b[0m \u001b[0mdelay_priority\u001b[0m \u001b[0;34m*\u001b[0m \u001b[0msum\u001b[0m\u001b[0;34m(\u001b[0m\u001b[0mps\u001b[0m\u001b[0;34m)\u001b[0m\u001b[0;34m\u001b[0m\u001b[0;34m\u001b[0m\u001b[0m\n\u001b[0;32m----> 5\u001b[0;31m            + sum([delay_endorse * max(init_endorsers - e, 0) for e in es]))\n\u001b[0m\u001b[1;32m      6\u001b[0m \u001b[0;34m\u001b[0m\u001b[0m\n\u001b[1;32m      7\u001b[0m \u001b[0;31m# attacking network delay over next n blocks.\u001b[0m\u001b[0;34m\u001b[0m\u001b[0;34m\u001b[0m\u001b[0;34m\u001b[0m\u001b[0m\n",
      "\u001b[0;32m<ipython-input-5-75ac643e27dd>\u001b[0m in \u001b[0;36m<listcomp>\u001b[0;34m(.0)\u001b[0m\n\u001b[1;32m      3\u001b[0m     return (60 * len(ps)\n\u001b[1;32m      4\u001b[0m            \u001b[0;34m+\u001b[0m \u001b[0mdelay_priority\u001b[0m \u001b[0;34m*\u001b[0m \u001b[0msum\u001b[0m\u001b[0;34m(\u001b[0m\u001b[0mps\u001b[0m\u001b[0;34m)\u001b[0m\u001b[0;34m\u001b[0m\u001b[0;34m\u001b[0m\u001b[0m\n\u001b[0;32m----> 5\u001b[0;31m            + sum([delay_endorse * max(init_endorsers - e, 0) for e in es]))\n\u001b[0m\u001b[1;32m      6\u001b[0m \u001b[0;34m\u001b[0m\u001b[0m\n\u001b[1;32m      7\u001b[0m \u001b[0;31m# attacking network delay over next n blocks.\u001b[0m\u001b[0;34m\u001b[0m\u001b[0;34m\u001b[0m\u001b[0;34m\u001b[0m\u001b[0m\n",
      "\u001b[0;31mKeyboardInterrupt\u001b[0m: "
     ]
    }
   ],
   "source": [
    "opt = BayesianOptimization(f = objective, domain = domain)\n",
    "opt.run_optimization(max_iter = 100)\n",
    "opt.plot_acquisition()"
   ]
  }
 ],
 "metadata": {
  "kernelspec": {
   "display_name": "Python 3",
   "language": "python",
   "name": "python3"
  },
  "language_info": {
   "codemirror_mode": {
    "name": "ipython",
    "version": 3
   },
   "file_extension": ".py",
   "mimetype": "text/x-python",
   "name": "python",
   "nbconvert_exporter": "python",
   "pygments_lexer": "ipython3",
   "version": "3.7.6"
  }
 },
 "nbformat": 4,
 "nbformat_minor": 2
}
